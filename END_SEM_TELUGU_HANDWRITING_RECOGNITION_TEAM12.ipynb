{
  "nbformat": 4,
  "nbformat_minor": 0,
  "metadata": {
    "colab": {
      "name": "Telugu_Handwriting_Recognition.ipynb",
      "provenance": [],
      "collapsed_sections": [],
      "include_colab_link": true
    },
    "kernelspec": {
      "name": "python3",
      "display_name": "Python 3"
    },
    "language_info": {
      "name": "python"
    }
  },
  "cells": [
    {
      "cell_type": "markdown",
      "metadata": {
        "id": "view-in-github",
        "colab_type": "text"
      },
      "source": [
        "<a href=\"https://colab.research.google.com/github/PlutoPranav/My_Codes/blob/main/END_SEM_TELUGU_HANDWRITING_RECOGNITION_TEAM12.ipynb\" target=\"_parent\"><img src=\"https://colab.research.google.com/assets/colab-badge.svg\" alt=\"Open In Colab\"/></a>"
      ]
    },
    {
      "cell_type": "code",
      "execution_count": 2,
      "metadata": {
        "id": "1iiLG0C9N7AO"
      },
      "outputs": [],
      "source": [
        "import matplotlib.pyplot as plt\n",
        "from sklearn.svm import SVC\n",
        "import numpy as np\n",
        "import matplotlib.pyplot as plt\n",
        "import pandas as pd\n",
        "from sklearn import decomposition\n",
        "from sklearn.preprocessing import StandardScaler\n",
        "from sklearn.model_selection import train_test_split\n",
        "from sklearn import metrics\n",
        "from sklearn import svm\n",
        "import pylab as pl"
      ]
    },
    {
      "cell_type": "code",
      "source": [
        "df = pd.read_csv(\"CSV_datasetsix_vowel_dataset_with_class.csv\") #data set with grey pixels of images\n",
        "df2=df.to_numpy() #converting dataframe to numpy array\n",
        "dfnew=df2[:,0:784] \n",
        "dfnew2=dfnew.reshape(1200,28,28) #reshaping for displaying images\n",
        "dflabel=df2[:,784:785]\n",
        "dflabel.shape\n",
        "#dflabel[402]"
      ],
      "metadata": {
        "colab": {
          "base_uri": "https://localhost:8080/"
        },
        "id": "DmxyGoY7OhsG",
        "outputId": "14dca99a-03be-47b7-94ee-9e1753f0f6d8"
      },
      "execution_count": 3,
      "outputs": [
        {
          "output_type": "execute_result",
          "data": {
            "text/plain": [
              "(1200, 1)"
            ]
          },
          "metadata": {},
          "execution_count": 3
        }
      ]
    },
    {
      "cell_type": "code",
      "source": [
        "# Samples just for printing\n",
        "pl.gray() \n",
        "pl.matshow(dfnew2[9])\n",
        "pl.matshow(dfnew2[299])\n",
        "pl.matshow(dfnew2[599])\n",
        "pl.matshow(dfnew2[799])\n",
        "pl.matshow(dfnew2[999])\n",
        "pl.matshow(dfnew2[1199])\n",
        "pl.show()"
      ],
      "metadata": {
        "colab": {
          "base_uri": "https://localhost:8080/",
          "height": 1000
        },
        "id": "-bHGfS38zcTK",
        "outputId": "0c31d651-a247-43cb-c427-ec4cf11b06fe"
      },
      "execution_count": 4,
      "outputs": [
        {
          "output_type": "display_data",
          "data": {
            "text/plain": [
              "<Figure size 432x288 with 0 Axes>"
            ]
          },
          "metadata": {}
        },
        {
          "output_type": "display_data",
          "data": {
            "image/png": "[encoded data removed]",
            "text/plain": [
              "<Figure size 288x288 with 1 Axes>"
            ]
          },
          "metadata": {
            "needs_background": "light"
          }
        },
        {
          "output_type": "display_data",
          "data": {
            "image/png": "[encoded data removed]",
            "text/plain": [
              "<Figure size 288x288 with 1 Axes>"
            ]
          },
          "metadata": {
            "needs_background": "light"
          }
        },
        {
          "output_type": "display_data",
          "data": {
            "image/png": "[encoded data removed]",
            "text/plain": [
              "<Figure size 288x288 with 1 Axes>"
            ]
          },
          "metadata": {
            "needs_background": "light"
          }
        },
        {
          "output_type": "display_data",
          "data": {
            "image/png": "[encoded data removed]",
            "text/plain": [
              "<Figure size 288x288 with 1 Axes>"
            ]
          },
          "metadata": {
            "needs_background": "light"
          }
        },
        {
          "output_type": "display_data",
          "data": {
            "image/png": "[encoded data removed]",
            "text/plain": [
              "<Figure size 288x288 with 1 Axes>"
            ]
          },
          "metadata": {
            "needs_background": "light"
          }
        },
        {
          "output_type": "display_data",
          "data": {
            "image/png": "[encoded data removed]",
            "text/plain": [
              "<Figure size 288x288 with 1 Axes>"
            ]
          },
          "metadata": {
            "needs_background": "light"
          }
        }
      ]
    },
    {
      "cell_type": "markdown",
      "source": [
        ""
      ],
      "metadata": {
        "id": "zpoGO1IAYVIM"
      }
    },
    {
      "cell_type": "code",
      "source": [
        "pix=[]\n",
        "for i in range(784):\n",
        "    pix.append('pixel'+str(i)) #getting pixels values into pix[]\n",
        "features=pix \n",
        "X = df.loc[:, features].values  #extracting features into X\n",
        "y = df.loc[:,'class'].values #extracting classes into Y\n",
        "#Splitting Train and Test set\n",
        "X_train, X_test, y_train, y_test = train_test_split(X, y, test_size = 0.25, random_state = 100)\n",
        "\n"
      ],
      "metadata": {
        "id": "3f9ogzsZO4Dk"
      },
      "execution_count": 21,
      "outputs": []
    },
    {
      "cell_type": "markdown",
      "source": [
        "##TRAINING THE MODEL: AND PRINTING ACCURACY OF TEST DATA"
      ],
      "metadata": {
        "id": "fR26Db9y8rRR"
      }
    },
    {
      "cell_type": "markdown",
      "source": [
        "###LINEAR SVM"
      ],
      "metadata": {
        "id": "aSMYt-Zu9gqO"
      }
    },
    {
      "cell_type": "code",
      "source": [
        "# SVM model for linear  kernel function\n",
        "svm_model = svm.SVC(kernel = 'linear', C = 1, degree=3, gamma=2).fit(X_train, y_train) #training the model\n",
        "#accuracy                                                         #feeding\n",
        "accuracy = svm_model.score(X_test, y_test) \n",
        "print('Accuracy: ',accuracy*100)"
      ],
      "metadata": {
        "id": "a2OQ4T6TPfu7",
        "colab": {
          "base_uri": "https://localhost:8080/"
        },
        "outputId": "d8c61f00-7a00-4170-92dd-da346477ac91"
      },
      "execution_count": 22,
      "outputs": [
        {
          "output_type": "stream",
          "name": "stdout",
          "text": [
            "Accuracy:  88.66666666666667\n"
          ]
        }
      ]
    },
    {
      "cell_type": "markdown",
      "source": [
        "###POLYNOMIAL KERNEL SVM"
      ],
      "metadata": {
        "id": "U_lRG1Pb9jhN"
      }
    },
    {
      "cell_type": "code",
      "source": [
        "# SVM model for polynomial kernel function\n",
        "svmPOLY_model = svm.SVC(kernel = 'poly', C = 1, degree=3, gamma=2).fit(X_train, y_train) #training the model\n",
        "#y_pred = svm_model.predict(X_test)\n",
        "accuracy = svmPOLY_model.score(X_test, y_test)\n",
        "print('Accuracy: ',accuracy*100)\n"
      ],
      "metadata": {
        "colab": {
          "base_uri": "https://localhost:8080/"
        },
        "id": "x57tezduO6E7",
        "outputId": "6f434f65-8a91-4f14-d9ad-027f9521d369"
      },
      "execution_count": 32,
      "outputs": [
        {
          "output_type": "stream",
          "name": "stdout",
          "text": [
            "Accuracy:  89.33333333333333\n"
          ]
        }
      ]
    },
    {
      "cell_type": "markdown",
      "source": [
        "###GAUSSIAN(RBF) KERNEL SVM"
      ],
      "metadata": {
        "id": "swX5PkAF9mLD"
      }
    },
    {
      "cell_type": "code",
      "source": [
        "# SVM model for linear  kernel function\n",
        "svm_model = svm.SVC(kernel = 'rbf', C = 3, degree=3, gamma='scale').fit(X_train, y_train)\n",
        "#y_pred = svm_model.predict(X_test)\n",
        "#accuracy = svm_model.score(X_train, y_train)\n",
        "\n",
        "accuracy = svm_model.score(X_test, y_test)\n",
        "print('Accuracy: ',accuracy*100)"
      ],
      "metadata": {
        "colab": {
          "base_uri": "https://localhost:8080/"
        },
        "id": "4pSD5O4zh7-m",
        "outputId": "b69928d3-f7c1-402b-911f-c16870ad1e1b"
      },
      "execution_count": 24,
      "outputs": [
        {
          "output_type": "stream",
          "name": "stdout",
          "text": [
            "Accuracy:  91.66666666666666\n"
          ]
        }
      ]
    },
    {
      "cell_type": "markdown",
      "source": [
        "##PRINTING ACCURACY FOR TRAINING DATA"
      ],
      "metadata": {
        "id": "LMelvd3q8zED"
      }
    },
    {
      "cell_type": "code",
      "source": [
        ""
      ],
      "metadata": {
        "id": "JMV_5oUD8yUL"
      },
      "execution_count": null,
      "outputs": []
    },
    {
      "cell_type": "code",
      "source": [
        "accuracy = svm_model.score(X_train, y_train)\n",
        "print('Accuracy: ',accuracy*100)"
      ],
      "metadata": {
        "colab": {
          "base_uri": "https://localhost:8080/"
        },
        "id": "6h1MsVesg4wt",
        "outputId": "6ff6e1c1-629a-4ad4-e71b-bd1c1b014396"
      },
      "execution_count": 25,
      "outputs": [
        {
          "output_type": "stream",
          "name": "stdout",
          "text": [
            "Accuracy:  100.0\n"
          ]
        }
      ]
    },
    {
      "cell_type": "code",
      "source": [
        "# SVM model for RBF kernel Function\n",
        "model_RBF = svm.SVC(degree=3, gamma='scale', kernel='rbf')  #radial basis function\n",
        "model_RBF.fit(X_train, y_train)\n",
        "#predict\n",
        "accuracy = model_RBF.score(X_train, y_train)\n",
        "print('Accuracy: ',accuracy*100)\n"
      ],
      "metadata": {
        "colab": {
          "base_uri": "https://localhost:8080/"
        },
        "id": "qqSNSN0YZtR3",
        "outputId": "f04a8c42-906c-4060-a625-9e261d51d8cd"
      },
      "execution_count": 26,
      "outputs": [
        {
          "output_type": "stream",
          "name": "stdout",
          "text": [
            "Accuracy:  99.66666666666667\n"
          ]
        }
      ]
    },
    {
      "cell_type": "code",
      "source": [
        "model_RBF.score(X_train,y_train)"
      ],
      "metadata": {
        "colab": {
          "base_uri": "https://localhost:8080/"
        },
        "id": "teeFBa9RhPSZ",
        "outputId": "e8b4c96c-55a3-44df-c906-ca3aae36fdfe"
      },
      "execution_count": 27,
      "outputs": [
        {
          "output_type": "execute_result",
          "data": {
            "text/plain": [
              "0.9966666666666667"
            ]
          },
          "metadata": {},
          "execution_count": 27
        }
      ]
    },
    {
      "cell_type": "code",
      "source": [
        "X_test.shape"
      ],
      "metadata": {
        "colab": {
          "base_uri": "https://localhost:8080/"
        },
        "id": "9fnt_vwJA9yK",
        "outputId": "868a8632-3c16-447b-89a5-2d8a8781ee73"
      },
      "execution_count": 28,
      "outputs": [
        {
          "output_type": "execute_result",
          "data": {
            "text/plain": [
              "(300, 784)"
            ]
          },
          "metadata": {},
          "execution_count": 28
        }
      ]
    },
    {
      "cell_type": "markdown",
      "source": [
        "##MANUALLY SEEING IF THE PREDICTIONS ARE RIGHT"
      ],
      "metadata": {
        "id": "6xU_FaZ387rh"
      }
    },
    {
      "cell_type": "code",
      "source": [
        "Xs=X_test.reshape(300,28,28) #RESHAPING\n",
        "###image in the test case\n",
        "pl.gray()\n",
        "num=89; #this is for entering which test image you want to test\n",
        "pl.matshow(Xs[num,:]) #This is to print the test set  \n",
        "pl.show()\n",
        "\n",
        "\n",
        "###predicton of the testcase\n",
        "livepred1=model_RBF.predict(X_test[num:num+1,0:784]) #This part is the prediction of the test set\n",
        "livepred1\n",
        "if livepred1 == 1:\n",
        "  print('Letter is: A అ') \n",
        "elif livepred1 == 2:\n",
        "  print('Letter is: AAA   ఆ') \n",
        "elif livepred1 == 3:\n",
        "  print('Letter is: E   ఇ') \n",
        "elif livepred1 == 4:\n",
        "  print('Letter is: EEEE  ఈ') \n",
        "elif livepred1 == 5:\n",
        "  print('Letter is: U  ఉ') \n",
        "elif livepred1 == 6:\n",
        "  print('Letter is: YE ఎ') \n",
        "else:\n",
        "  print('ERROR') \n",
        "\n"
      ],
      "metadata": {
        "colab": {
          "base_uri": "https://localhost:8080/",
          "height": 312
        },
        "id": "eBM3NkII9jsP",
        "outputId": "122c2b90-9169-44be-c6c0-73ec9fca2f4f"
      },
      "execution_count": 31,
      "outputs": [
        {
          "output_type": "display_data",
          "data": {
            "text/plain": [
              "<Figure size 432x288 with 0 Axes>"
            ]
          },
          "metadata": {}
        },
        {
          "output_type": "display_data",
          "data": {
            "image/png": "[encoded data removed]",
            "text/plain": [
              "<Figure size 288x288 with 1 Axes>"
            ]
          },
          "metadata": {
            "needs_background": "light"
          }
        },
        {
          "output_type": "stream",
          "name": "stdout",
          "text": [
            "Letter is: YE ఎ\n"
          ]
        }
      ]
    },
    {
      "cell_type": "code",
      "source": [
        "from sklearn.metrics import classification_report\n",
        "#predictions = svm_model.predict(X_test)\n",
        "predictions = svm_model.predict(X_test) #LINEAR SVM\n",
        "#predictions = svmPOLY_model.predict(X_test)\n",
        "print(classification_report(y_test, predictions))"
      ],
      "metadata": {
        "colab": {
          "base_uri": "https://localhost:8080/"
        },
        "id": "etKtizdka3yn",
        "outputId": "c608ca64-dad6-46db-d623-b67305021315"
      },
      "execution_count": 36,
      "outputs": [
        {
          "output_type": "stream",
          "name": "stdout",
          "text": [
            "              precision    recall  f1-score   support\n",
            "\n",
            "           1       0.87      0.88      0.87        59\n",
            "           2       0.96      0.91      0.93        47\n",
            "           3       0.87      0.98      0.92        47\n",
            "           4       0.94      0.96      0.95        51\n",
            "           5       0.98      0.85      0.91        53\n",
            "           6       0.91      0.93      0.92        43\n",
            "\n",
            "    accuracy                           0.92       300\n",
            "   macro avg       0.92      0.92      0.92       300\n",
            "weighted avg       0.92      0.92      0.92       300\n",
            "\n"
          ]
        }
      ]
    },
    {
      "cell_type": "code",
      "source": [
        "predictions1 = svmPOLY_model.predict(X_test)\n",
        "print(classification_report(y_test, predictions1))"
      ],
      "metadata": {
        "colab": {
          "base_uri": "https://localhost:8080/"
        },
        "id": "5pIQJ6jC91kj",
        "outputId": "39030cd4-325b-451a-d49e-294fa4170b4c"
      },
      "execution_count": 35,
      "outputs": [
        {
          "output_type": "stream",
          "name": "stdout",
          "text": [
            "              precision    recall  f1-score   support\n",
            "\n",
            "           1       0.79      0.85      0.82        59\n",
            "           2       0.91      0.91      0.91        47\n",
            "           3       0.90      0.94      0.92        47\n",
            "           4       0.96      0.92      0.94        51\n",
            "           5       0.92      0.87      0.89        53\n",
            "           6       0.90      0.88      0.89        43\n",
            "\n",
            "    accuracy                           0.89       300\n",
            "   macro avg       0.90      0.90      0.90       300\n",
            "weighted avg       0.90      0.89      0.89       300\n",
            "\n"
          ]
        }
      ]
    },
    {
      "cell_type": "code",
      "source": [
        "predictions2 = model_RBF.predict(X_test)\n",
        "print(classification_report(y_test, predictions2))"
      ],
      "metadata": {
        "colab": {
          "base_uri": "https://localhost:8080/"
        },
        "id": "RK6lxGoX-EDN",
        "outputId": "3636556b-d7ce-4028-ba3f-b979ca36a115"
      },
      "execution_count": 37,
      "outputs": [
        {
          "output_type": "stream",
          "name": "stdout",
          "text": [
            "              precision    recall  f1-score   support\n",
            "\n",
            "           1       0.83      0.85      0.84        59\n",
            "           2       0.93      0.91      0.92        47\n",
            "           3       0.88      0.98      0.93        47\n",
            "           4       0.92      0.96      0.94        51\n",
            "           5       0.96      0.83      0.89        53\n",
            "           6       0.93      0.93      0.93        43\n",
            "\n",
            "    accuracy                           0.91       300\n",
            "   macro avg       0.91      0.91      0.91       300\n",
            "weighted avg       0.91      0.91      0.91       300\n",
            "\n"
          ]
        }
      ]
    }
  ]
}
